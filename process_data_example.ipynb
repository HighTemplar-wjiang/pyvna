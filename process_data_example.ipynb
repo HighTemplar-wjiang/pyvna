{
 "cells": [
  {
   "cell_type": "code",
   "execution_count": 8,
   "metadata": {
    "collapsed": true
   },
   "outputs": [],
   "source": [
    "# This is an example for one-port S11 measurement.\n",
    "# In this example, we will load the measured S11 parameters, and convert them to Y11 parameters."
   ]
  },
  {
   "cell_type": "code",
   "execution_count": 9,
   "metadata": {
    "collapsed": true
   },
   "outputs": [],
   "source": [
    "%matplotlib inline\n",
    "import re\n",
    "import os\n",
    "import csv\n",
    "import numpy as np\n",
    "import matplotlib.pyplot as plt\n",
    "\n",
    "plt.rcParams['savefig.dpi'] = 300"
   ]
  },
  {
   "cell_type": "code",
   "execution_count": 10,
   "metadata": {
    "collapsed": true
   },
   "outputs": [],
   "source": [
    "def _s2y(s):\n",
    "    \"\"\"Convert S-parameters to Y-parameters\n",
    "\n",
    "    Formula: :math: `y = \\frac{1-s}{1+s} / 50`\n",
    "\n",
    "    Args:\n",
    "        s (complex): S-parameter to be converted\n",
    "\n",
    "    Returns:\n",
    "        complex: converted Y-parameter\n",
    "    \"\"\"\n",
    "    y = ((1.-s) / (1.+s)) / 50.\n",
    "    return y"
   ]
  },
  {
   "cell_type": "code",
   "execution_count": 7,
   "metadata": {},
   "outputs": [
    {
     "name": "stdout",
     "output_type": "stream",
     "text": [
      "S11_06mm.csv\n",
      "S11_08mm.csv\n",
      "(2, 10000, 9)\n"
     ]
    }
   ],
   "source": [
    "# There are 2 data files, with filename patter S11_ + 2 digits + mm.csv. \n",
    "# We will use the 2 digits as data labels.\n",
    "datapath = \"./data/\"\n",
    "re_name = re.compile(\"S11_(\\d{2})mm.csv\")\n",
    "file_list = os.listdir(datapath)\n",
    "\n",
    "all_labels = []\n",
    "all_data = []\n",
    "for filename in file_list:\n",
    "    # Check if filename matches the patter.\n",
    "    re_result = re_name.search(filename)\n",
    "    if re_result:\n",
    "        # Get data label from the filename.\n",
    "        label = int(re_result.group(1))\n",
    "        data = []\n",
    "        print(filename)\n",
    "        # Read all data.\n",
    "        with open(datapath+filename, \"r\") as f:\n",
    "            reader = csv.reader(f, delimiter=\",\")\n",
    "            head = next(reader)\n",
    "            for row in reader:\n",
    "                data.append([float(item) for item in row])\n",
    "        all_labels.append(label)\n",
    "        all_data.append(data)\n",
    "\n",
    "all_data = np.array(all_data)\n",
    "print(all_data.shape)"
   ]
  },
  {
   "cell_type": "code",
   "execution_count": 12,
   "metadata": {},
   "outputs": [
    {
     "data": {
      "image/png": "[encoded data removed]",
      "text/plain": [
       "<matplotlib.figure.Figure at 0x2849cbeceb8>"
      ]
     },
     "metadata": {},
     "output_type": "display_data"
    }
   ],
   "source": [
    "# Convert S11 to Y11.\n",
    "s11_all = []\n",
    "y11_all = []\n",
    "for data in all_data:\n",
    "    freq_list = data[:, 0]\n",
    "    # The second column and the third column are the real part the imaginary part of S11, respectively.\n",
    "    s11 = data[:, 1] + 1j * data[:, 2]\n",
    "    y11 = _s2y(s11)\n",
    "    s11_all.append(s11)\n",
    "    y11_all.append(y11)\n",
    "s11_all = np.array(s11_all)\n",
    "y11_all = np.array(y11_all)\n",
    "\n",
    "# Plot Y11.real and save the figure.\n",
    "fig, ax1 = plt.subplots()\n",
    "plt.xlabel(\"Frequency (MHz)\")\n",
    "plt.ylabel(\"Real part of Y11 (S)\")\n",
    "for y11 in y11_all:\n",
    "    plt.plot(freq_list / 1e6, y11.real)\n",
    "plt.legend([\"d=\" + str(label) + \" mm\" for label in all_labels])\n",
    "plt.show()\n",
    "fig.savefig(\"./freq_vs_Y11\")"
   ]
  },
  {
   "cell_type": "code",
   "execution_count": null,
   "metadata": {
    "collapsed": true
   },
   "outputs": [],
   "source": []
  }
 ],
 "metadata": {
  "kernelspec": {
   "display_name": "Python 3",
   "language": "python",
   "name": "python3"
  },
  "language_info": {
   "codemirror_mode": {
    "name": "ipython",
    "version": 3
   },
   "file_extension": ".py",
   "mimetype": "text/x-python",
   "name": "python",
   "nbconvert_exporter": "python",
   "pygments_lexer": "ipython3",
   "version": "3.6.0"
  }
 },
 "nbformat": 4,
 "nbformat_minor": 2
}
